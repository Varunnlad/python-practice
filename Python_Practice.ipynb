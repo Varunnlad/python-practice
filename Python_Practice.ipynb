{
  "nbformat": 4,
  "nbformat_minor": 0,
  "metadata": {
    "colab": {
      "provenance": [],
      "authorship_tag": "ABX9TyNVSjLNVjhYeKsX/9dGGjYG",
      "include_colab_link": true
    },
    "kernelspec": {
      "name": "python3",
      "display_name": "Python 3"
    },
    "language_info": {
      "name": "python"
    }
  },
  "cells": [
    {
      "cell_type": "markdown",
      "metadata": {
        "id": "view-in-github",
        "colab_type": "text"
      },
      "source": [
        "<a href=\"https://colab.research.google.com/github/Varunnlad/python-practice/blob/master/Python_Practice.ipynb\" target=\"_parent\"><img src=\"https://colab.research.google.com/assets/colab-badge.svg\" alt=\"Open In Colab\"/></a>"
      ]
    },
    {
      "cell_type": "markdown",
      "source": [
        "# **Python Basics**\n"
      ],
      "metadata": {
        "id": "qIF4OY37aGxo"
      }
    },
    {
      "cell_type": "markdown",
      "source": [
        "**Data types**"
      ],
      "metadata": {
        "id": "OXOhXFsOeytp"
      }
    },
    {
      "cell_type": "code",
      "source": [
        "#lists\n",
        "print([1,2,3])"
      ],
      "metadata": {
        "colab": {
          "base_uri": "https://localhost:8080/"
        },
        "id": "hEnl9SgYaSUJ",
        "outputId": "4f086bd9-8201-488c-dbc7-1369d97bbe71"
      },
      "execution_count": null,
      "outputs": [
        {
          "output_type": "stream",
          "name": "stdout",
          "text": [
            "[1, 2, 3]\n"
          ]
        }
      ]
    },
    {
      "cell_type": "code",
      "source": [
        "#tuple\n",
        "print((1,2,3))"
      ],
      "metadata": {
        "colab": {
          "base_uri": "https://localhost:8080/"
        },
        "id": "zJL1Ivbhdu9E",
        "outputId": "cb027a86-780b-47f4-9a1d-83cddca1e43c"
      },
      "execution_count": null,
      "outputs": [
        {
          "output_type": "stream",
          "name": "stdout",
          "text": [
            "(1, 2, 3)\n"
          ]
        }
      ]
    },
    {
      "cell_type": "code",
      "source": [
        "#sets\n",
        "print({1,2,3})"
      ],
      "metadata": {
        "colab": {
          "base_uri": "https://localhost:8080/"
        },
        "id": "_qGsnKWsd4Pt",
        "outputId": "43ed2566-ef9a-47f0-82c2-b7cee03e71da"
      },
      "execution_count": null,
      "outputs": [
        {
          "output_type": "stream",
          "name": "stdout",
          "text": [
            "{1, 2, 3}\n"
          ]
        }
      ]
    },
    {
      "cell_type": "code",
      "source": [
        "#dictonary\n",
        "print({'name':'varun', 'surname':'lad'})"
      ],
      "metadata": {
        "colab": {
          "base_uri": "https://localhost:8080/"
        },
        "id": "7K1jxlVid84o",
        "outputId": "d4f71f56-7929-4737-80d8-d1a3d342024d"
      },
      "execution_count": null,
      "outputs": [
        {
          "output_type": "stream",
          "name": "stdout",
          "text": [
            "{'name': 'varun', 'surname': 'lad'}\n"
          ]
        }
      ]
    },
    {
      "cell_type": "code",
      "source": [
        "#variables can be created directly in python\n",
        "name = \"varun\"\n",
        "print(name)\n",
        "\n",
        "#python supports dynamic typing\n",
        "a=2\n",
        "b=4\n",
        "print(a+b)"
      ],
      "metadata": {
        "colab": {
          "base_uri": "https://localhost:8080/"
        },
        "id": "cXp1mB8-eQ3r",
        "outputId": "5a45fba4-0106-402c-940a-2d9ab3f972e1"
      },
      "execution_count": null,
      "outputs": [
        {
          "output_type": "stream",
          "name": "stdout",
          "text": [
            "varun\n",
            "6\n"
          ]
        }
      ]
    },
    {
      "cell_type": "code",
      "source": [
        "# Daynamic binding A variable can hold any datatype\n",
        "a=2\n",
        "print(a)\n",
        "a='varun'\n",
        "print(a)\n",
        "# in static binding variable cannot hold another datatype once declared"
      ],
      "metadata": {
        "colab": {
          "base_uri": "https://localhost:8080/"
        },
        "id": "_Wbc_ws3f_RK",
        "outputId": "3ee27160-8b47-425b-cab8-5a0bfd9fd1f1"
      },
      "execution_count": null,
      "outputs": [
        {
          "output_type": "stream",
          "name": "stdout",
          "text": [
            "2\n",
            "varun\n"
          ]
        }
      ]
    },
    {
      "cell_type": "code",
      "source": [
        "spam_amount=0\n",
        "print(spam_amount)\n",
        "\n",
        "spam_amount = spam_amount + 4\n",
        "\n",
        "if spam_amount > 0:\n",
        "    print(\"But i dont want any spam!\")\n",
        "viking_song = \"Spam\" * spam_amount\n",
        "print(viking_song)"
      ],
      "metadata": {
        "id": "mK7BOUdrhQ1J",
        "colab": {
          "base_uri": "https://localhost:8080/"
        },
        "outputId": "aa6b6c38-9dd6-44ae-fd3d-82c0aee3823b"
      },
      "execution_count": null,
      "outputs": [
        {
          "output_type": "stream",
          "name": "stdout",
          "text": [
            "0\n",
            "But i dont want any spam!\n",
            "SpamSpamSpamSpam\n"
          ]
        }
      ]
    },
    {
      "cell_type": "code",
      "source": [
        "def least_difference(a, b, c):\n",
        "    \"\"\"Return the smallest diifference between 2 numvers\n",
        "    among a, b, and c.\n",
        "    >>>least_diffrtrnvcr(1,5,-5)\n",
        "    4\n",
        "    \"\"\"\n",
        "    diff1 = abs(a - b)\n",
        "    diff2 = abs(b - c)\n",
        "    diff3 = abs(a - c)\n",
        "    return min(diff1, diff2, diff3)"
      ],
      "metadata": {
        "id": "1NSH8H1OsBco"
      },
      "execution_count": null,
      "outputs": []
    },
    {
      "cell_type": "code",
      "source": [
        "help(least_difference)"
      ],
      "metadata": {
        "colab": {
          "base_uri": "https://localhost:8080/"
        },
        "id": "2cKl5ZY8__bG",
        "outputId": "93a69874-60a3-44fd-e836-3cdfa134a4d8"
      },
      "execution_count": null,
      "outputs": [
        {
          "output_type": "stream",
          "name": "stdout",
          "text": [
            "Help on function least_difference in module __main__:\n",
            "\n",
            "least_difference(a, b, c)\n",
            "    Return the smallest diifference between 2 numvers\n",
            "    among a, b, and c.\n",
            "    >>>least_diffrtrnvcr(1,5,-5)\n",
            "    4\n",
            "\n"
          ]
        }
      ]
    },
    {
      "cell_type": "code",
      "source": [
        "def least_difference(a, b, c):\n",
        "    \"\"\"Return the smallest difference between any two numbers\n",
        "    among a, b and c.\n",
        "    \"\"\"\n",
        "    diff1 = abs(a - b)\n",
        "    diff2 = abs(b - c)\n",
        "    diff3 = abs(a - c)\n",
        "    return min(diff1, diff2, diff3)\n",
        "\n",
        "print(\n",
        "    least_difference(1, 10, 100),\n",
        "    least_difference(1, 10, 10),\n",
        "    least_difference(5, 6, 7),\n",
        ")"
      ],
      "metadata": {
        "colab": {
          "base_uri": "https://localhost:8080/"
        },
        "id": "xSLQIvZKAXlY",
        "outputId": "df3fd754-37af-4b66-c349-6a3d6386a46d"
      },
      "execution_count": null,
      "outputs": [
        {
          "output_type": "stream",
          "name": "stdout",
          "text": [
            "9 0 1\n"
          ]
        }
      ]
    },
    {
      "cell_type": "code",
      "source": [
        "def greet(who=\"Varun\"):\n",
        "    print(\"Hello\",who)\n",
        "greet()\n",
        "greet(who=\"Raj\")\n",
        "greet(\"World\")"
      ],
      "metadata": {
        "colab": {
          "base_uri": "https://localhost:8080/"
        },
        "id": "NG_hhKN8B_Ys",
        "outputId": "91b35471-9804-474a-9316-fa9e325c74ed"
      },
      "execution_count": null,
      "outputs": [
        {
          "output_type": "stream",
          "name": "stdout",
          "text": [
            "Hello Varun\n",
            "Hello Raj\n",
            "Hello World\n"
          ]
        }
      ]
    },
    {
      "cell_type": "code",
      "source": [
        "def mult_by_five(x):\n",
        "    return 5*x\n",
        "def call(fn, argg):\n",
        "    \"\"\"Call fn on argg\"\"\"\n",
        "    return fn(argg)\n",
        "def squared_call(fn, argg):\n",
        "    \"\"\"Call fn on the result of calling fn on argg\"\"\"\n",
        "    return fn(fn(argg))\n",
        "\n",
        "print(\n",
        "    call(mult_by_five,1),\n",
        "    squared_call(mult_by_five,1),\n",
        "    sep=\"\\n\"\n",
        ")\n"
      ],
      "metadata": {
        "colab": {
          "base_uri": "https://localhost:8080/"
        },
        "id": "Wt32SNWgDQ7B",
        "outputId": "095517f2-0805-42f7-8950-c9882ecfe7b2"
      },
      "execution_count": null,
      "outputs": [
        {
          "output_type": "stream",
          "name": "stdout",
          "text": [
            "5\n",
            "25\n"
          ]
        }
      ]
    },
    {
      "cell_type": "code",
      "source": [
        "def mod_5(x):\n",
        "    return x %  5\n",
        "print(\n",
        "    'which number is the biggest',\n",
        "    max(100,51,14),\n",
        "    \"which number is the biggest mod of 5\",\n",
        "    max(100,51,14,key=mod_5),\n",
        "    sep=\"\\n\",\n",
        " )"
      ],
      "metadata": {
        "colab": {
          "base_uri": "https://localhost:8080/"
        },
        "id": "eK7_bHHKIv70",
        "outputId": "94294246-b1d4-4272-b566-25ded6438105"
      },
      "execution_count": null,
      "outputs": [
        {
          "output_type": "stream",
          "name": "stdout",
          "text": [
            "which number is the biggest\n",
            "100\n",
            "which number is the biggest mod of 5\n",
            "14\n"
          ]
        }
      ]
    },
    {
      "cell_type": "code",
      "source": [
        "# x = -10\n",
        "# y = 5\n",
        "# # Which of the two variables above has the smallest absolute value?\n",
        "# smallest_abs = min(abs(x, y))\n",
        "\n",
        "def smallest_abs(X,Y):\n",
        "    X = abs(X)\n",
        "    Y= abs(Y)\n",
        "    return min(X,Y)\n",
        "print(\n",
        "    smallest_abs(-10,5)\n",
        ")"
      ],
      "metadata": {
        "colab": {
          "base_uri": "https://localhost:8080/"
        },
        "id": "5SMYbMX_Icke",
        "outputId": "99228cef-bc5f-4f67-881f-d85e9a4bdf86"
      },
      "execution_count": null,
      "outputs": [
        {
          "output_type": "stream",
          "name": "stdout",
          "text": [
            "5\n"
          ]
        }
      ]
    },
    {
      "cell_type": "code",
      "source": [
        "def can_run_for_president(age):\n",
        "    \"\"\"Can someone of the given age run for president in the US?\"\"\"\n",
        "    # The US Constitution says you must be at least 35 years old\n",
        "    return age >= 35\n",
        "\n",
        "print(\"Can a 19-year-old run for president?\", can_run_for_president(19))\n",
        "print(\"Can a 45-year-old run for president?\", can_run_for_president(45))\n"
      ],
      "metadata": {
        "colab": {
          "base_uri": "https://localhost:8080/"
        },
        "id": "udMD5xDXRaYY",
        "outputId": "7f4d8d47-d0d4-45cf-92d7-2856186ddf14"
      },
      "execution_count": null,
      "outputs": [
        {
          "output_type": "stream",
          "name": "stdout",
          "text": [
            "Can a 19-year-old run for president? False\n",
            "Can a 45-year-old run for president? True\n"
          ]
        }
      ]
    },
    {
      "cell_type": "code",
      "source": [
        "# Your code goes here. Define a function called 'sign'\n",
        "def sign(x):\n",
        "    if x>0:\n",
        "        return 1\n",
        "    elif x<0:\n",
        "        return -1\n",
        "    else :\n",
        "        return 0\n"
      ],
      "metadata": {
        "id": "qbQ3uwE1I-oW"
      },
      "execution_count": 2,
      "outputs": []
    },
    {
      "cell_type": "code",
      "source": [
        "def to_smash(total_candies):\n",
        "    \"\"\"Return the number of leftover candies that must be smashed after distributing\n",
        "    the given number of candies evenly between 3 friends.\n",
        "\n",
        "    >>> to_smash(91)\n",
        "    1\n",
        "    \"\"\"\n",
        "    if total_candies == 1:\n",
        "        print(\"Spliting 1 candy\")\n",
        "    else:\n",
        "        print(\"Splitting\", total_candies, \"candiies\")\n",
        "\n",
        "    return total_candies % 3\n",
        "\n",
        "to_smash(91)\n",
        "to_smash(1)"
      ],
      "metadata": {
        "colab": {
          "base_uri": "https://localhost:8080/"
        },
        "id": "3BpGmj-uYL_2",
        "outputId": "9ca6289f-27e8-46b2-b096-bd99e9ea461f"
      },
      "execution_count": 3,
      "outputs": [
        {
          "output_type": "stream",
          "name": "stdout",
          "text": [
            "Splitting 91 candiies\n",
            "Spliting 1 candy\n"
          ]
        },
        {
          "output_type": "execute_result",
          "data": {
            "text/plain": [
              "1"
            ]
          },
          "metadata": {},
          "execution_count": 3
        }
      ]
    },
    {
      "cell_type": "code",
      "source": [
        "def to_smash(total_candies):\n",
        "    \"\"\"Return the number of leftover candies that must be smashed after distributing\n",
        "    the given number of candies evenly between 3 friends.\n",
        "\n",
        "    >>> to_smash(91)\n",
        "    1\n",
        "    \"\"\"\n",
        "    print(\"Splitting\", total_candies, \"candy\" if total_candies == 1 else \"candies\")\n",
        "    return total_candies % 3\n",
        "\n",
        "to_smash(91)"
      ],
      "metadata": {
        "colab": {
          "base_uri": "https://localhost:8080/"
        },
        "id": "6UlTnHxMYNmy",
        "outputId": "b591b66f-4e97-41b2-8aed-9cca86aa779e"
      },
      "execution_count": 5,
      "outputs": [
        {
          "output_type": "stream",
          "name": "stdout",
          "text": [
            "Splitting 91 candies\n"
          ]
        },
        {
          "output_type": "execute_result",
          "data": {
            "text/plain": [
              "1"
            ]
          },
          "metadata": {},
          "execution_count": 5
        }
      ]
    },
    {
      "cell_type": "code",
      "source": [
        "def prepared_for_weather(have_umbrella, rain_level, have_hood, is_workday):\n",
        "    # Don't change this code. Our goal is just to find the bug, not fix it!\n",
        "    return have_umbrella or rain_level < 5 and have_hood or not rain_level > 0 and is_workday\n",
        "\n",
        "# Change the values of these inputs so they represent a case where prepared_for_weather\n",
        "# returns the wrong answer.\n",
        "have_umbrella = False\n",
        "rain_level = 0.0\n",
        "have_hood = False\n",
        "is_workday = False\n",
        "\n",
        "# Check what the function returns given the current values of the variables above\n",
        "actual = prepared_for_weather(have_umbrella, rain_level, have_hood, is_workday)\n",
        "print(actual)"
      ],
      "metadata": {
        "colab": {
          "base_uri": "https://localhost:8080/"
        },
        "id": "FhpkPftPZRQC",
        "outputId": "b67be726-cea7-4bc0-e5b6-a7a7f88aa56f"
      },
      "execution_count": 6,
      "outputs": [
        {
          "output_type": "stream",
          "name": "stdout",
          "text": [
            "False\n"
          ]
        }
      ]
    },
    {
      "cell_type": "code",
      "source": [
        "def wants_all_toppings(ketchup, mustard, onion):\n",
        "    \"\"\"Return whether the customer wants \"the works\" (all 3 toppings)\n",
        "    \"\"\"\n",
        "    return ketchup and mustard and onion"
      ],
      "metadata": {
        "id": "CzoWt0_caR2V"
      },
      "execution_count": 1,
      "outputs": []
    },
    {
      "cell_type": "code",
      "source": [
        "def wants_plain_hotdog(ketchup, mustard, onion):\n",
        "    \"\"\"Return whether the customer wants a plain hot dog with no toppings.\n",
        "    \"\"\"\n",
        "    return not ketchup and not mustard and not onion"
      ],
      "metadata": {
        "id": "XHqnF26aOhfx"
      },
      "execution_count": 2,
      "outputs": []
    },
    {
      "cell_type": "code",
      "source": [
        "def exactly_one_sauce(ketchup, mustard, onion):\n",
        "    \"\"\"Return whether the customer wants either ketchup or mustard, but not both.\n",
        "    (You may be familiar with this operation under the name \"exclusive or\")\n",
        "    \"\"\"\n",
        "    return (ketchup and not mustard) or (not ketchup and mustard)"
      ],
      "metadata": {
        "id": "LcVSIaHmOlO9"
      },
      "execution_count": 5,
      "outputs": []
    },
    {
      "cell_type": "code",
      "source": [
        "def exactly_one_topping(ketchup, mustard, onion):\n",
        "    \"\"\"Return whether the customer wants exactly one of the three available toppings\n",
        "    on their hot dog.\n",
        "    \"\"\"\n",
        "    return (ketchup + mustard + onion) == 1"
      ],
      "metadata": {
        "id": "y0NkpNF9Oozv"
      },
      "execution_count": 6,
      "outputs": []
    }
  ]
}